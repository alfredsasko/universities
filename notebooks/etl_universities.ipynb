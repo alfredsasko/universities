{
 "cells": [
  {
   "cell_type": "markdown",
   "source": [
    "# Comparison of Universities Curriculum"
   ],
   "metadata": {
    "collapsed": false
   }
  },
  {
   "cell_type": "code",
   "execution_count": 80,
   "outputs": [],
   "source": [
    "import pandas as pd\n",
    "from typing import List, Dict\n",
    "from collections import defaultdict\n",
    "\n",
    "\n",
    "def load_curriculums(curriculum_path: str, universities: List[str]) -> Dict[str, pd.DataFrame]:\n",
    "    return {\n",
    "        university: pd.read_excel(curriculum_path, sheet_name=university, dtype='object')\n",
    "        for university in universities\n",
    "    }\n",
    "\n",
    "\n",
    "def compare_curriculums(\n",
    "        curriculums: Dict[str, pd.DataFrame],\n",
    "        curriculum_columns: List[str],\n",
    "        course_priority: pd.DataFrame,\n",
    "\n",
    "):\n",
    "    # preprocess\n",
    "    course_priority = course_priority[['kod', 'priorita']].drop_duplicates()\n",
    "\n",
    "    columns = ['priorita'] + curriculum_columns\n",
    "    for university in curriculums:\n",
    "        # add course priority\n",
    "        curriculums[university] = pd.merge(curriculums[university], course_priority[['kod', 'priorita']], on='kod',\n",
    "                                           how='left')\n",
    "        curriculums[university].drop(columns=['kod'], inplace=True)\n",
    "\n",
    "        # deduplicate records\n",
    "        curriculums[university].drop_duplicates(subset=columns, inplace=True)\n",
    "\n",
    "        # sort\n",
    "        curriculums[university] = curriculums[university].sort_values(by=columns)\n",
    "\n",
    "    # get maximum courses per course code across universities\n",
    "    def get_max_courses(priority, curriculums):\n",
    "        max_courses = max([\n",
    "            len(curriculums[university].loc[curriculums[university]['priorita'] == priority])\n",
    "            for university in curriculums\n",
    "        ])\n",
    "        return max_courses\n",
    "\n",
    "    course_priority['max_courses'] = course_priority['priorita'] \\\n",
    "        .apply(get_max_courses, curriculums=curriculums)\n",
    "\n",
    "    # merged curriculums\n",
    "    codes = course_priority['priorita'].unique()\n",
    "    data = defaultdict(list)\n",
    "    for code in codes:\n",
    "        max_courses = course_priority.loc[course_priority['priorita'] == code, 'max_courses'].values[0]\n",
    "        data['priorita'].extend([code] * max_courses)\n",
    "        for university, curriculum in curriculums.items():\n",
    "            for column in curriculum_columns:\n",
    "                values = curriculum.loc[curriculum['priorita'] == code, column].astype(str).tolist()\n",
    "                empty_values = [None] * (max_courses - len(values))\n",
    "                values += empty_values\n",
    "                data[f'{university}_{column}'].extend(values)\n",
    "\n",
    "    return pd.DataFrame(data)\n",
    "\n",
    "\n",
    "curriculum_path = '../data/curriculums.xlsx'\n",
    "curriculum_columns = ['volba', 'predmet',]    # 'rocnik', 'semester']\n",
    "universities = ['stu_fei', 'vut_fit', 'ukf_fai', 'utb_fai', 'vut_fsi', 'vut_fekt']\n",
    "course_priority = pd.read_excel(curriculum_path, sheet_name='kod_dim')\n",
    "\n",
    "curriculums = load_curriculums(\n",
    "    universities=universities,\n",
    "    curriculum_path=curriculum_path\n",
    ")\n",
    "\n",
    "df = compare_curriculums(\n",
    "    curriculums=curriculums,\n",
    "    curriculum_columns=curriculum_columns,\n",
    "    course_priority=course_priority,\n",
    ")\n",
    "\n",
    "with pd.ExcelWriter('../data/curriculums.xlsx', mode='a') as writer:\n",
    "    df.to_excel(writer, sheet_name='merged_by_priorita', index=False)"
   ],
   "metadata": {
    "collapsed": false,
    "ExecuteTime": {
     "end_time": "2024-05-30T18:11:54.488218700Z",
     "start_time": "2024-05-30T18:11:52.636521600Z"
    }
   }
  }
 ],
 "metadata": {
  "kernelspec": {
   "display_name": "Python 3",
   "language": "python",
   "name": "python3"
  },
  "language_info": {
   "codemirror_mode": {
    "name": "ipython",
    "version": 2
   },
   "file_extension": ".py",
   "mimetype": "text/x-python",
   "name": "python",
   "nbconvert_exporter": "python",
   "pygments_lexer": "ipython2",
   "version": "2.7.6"
  }
 },
 "nbformat": 4,
 "nbformat_minor": 0
}
